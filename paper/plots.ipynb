{
 "cells": [
  {
   "cell_type": "code",
   "execution_count": 1,
   "metadata": {},
   "outputs": [],
   "source": [
    "import datetime\n",
    "\n",
    "import matplotlib.pyplot as plt\n",
    "\n",
    "from acsql.database.database_interface import session\n",
    "from acsql.database.database_interface import WFC_raw_0\n",
    "from acsql.database.database_interface import HRC_raw_0\n",
    "from acsql.database.database_interface import SBC_raw_0"
   ]
  },
  {
   "cell_type": "code",
   "execution_count": 2,
   "metadata": {},
   "outputs": [],
   "source": [
    "def get_dates(detector):\n",
    "    \"\"\"Return a list of observation dates and the aggregate number of\n",
    "    observations for every observation for the given detector over time.\n",
    "    \n",
    "    Parameters\n",
    "    ----------\n",
    "    detector : obj\n",
    "        The SQLAlchemy Table object for the detector.\n",
    "        \n",
    "    Returns\n",
    "    -------\n",
    "    dates : list\n",
    "        A list of observation dates\n",
    "    num_obs : list\n",
    "        A list of the aggregate number of observations over time for each\n",
    "        date in the dates list.\n",
    "    \"\"\"\n",
    "    \n",
    "    results = session.query(getattr(detector,'date-obs')).all()\n",
    "    dates = sorted([item[0] for item in results])\n",
    "    results_dict = {}\n",
    "    num_obs = 1\n",
    "    for date in dates:\n",
    "        results_dict[date] = num_obs\n",
    "        num_obs += 1\n",
    "    dates, num_obs = zip(*sorted(results_dict.items()))\n",
    "    dates = [datetime.datetime.strptime(date, '%Y-%m-%d') for date in dates]\n",
    "\n",
    "    return dates, num_obs"
   ]
  },
  {
   "cell_type": "code",
   "execution_count": 3,
   "metadata": {},
   "outputs": [],
   "source": [
    "wfc_dates, wfc_num_obs = get_dates(WFC_raw_0)\n",
    "hrc_dates, hrc_num_obs  = get_dates(HRC_raw_0)\n",
    "sbc_dates, sbc_num_obs  = get_dates(SBC_raw_0)"
   ]
  },
  {
   "cell_type": "code",
   "execution_count": 4,
   "metadata": {},
   "outputs": [],
   "source": [
    "plt.rcParams['font.size'] = 14\n",
    "plt.style.use('bmh')\n",
    "fig = plt.figure(figsize=(8,6))\n",
    "ax = fig.add_subplot(111)\n",
    "ax.set_ylabel('Number of Observations')\n",
    "ax.set_yticks([0, 20000, 40000, 60000, 80000, 100000, 120000])\n",
    "ax.set_yticklabels(['0', '20k', '40k', '60k', '80k', '100k', '120k'])\n",
    "ax.plot(wfc_dates, wfc_num_obs, linewidth=3, color='#348ABD', label='WFC')\n",
    "ax.plot(hrc_dates, hrc_num_obs, linewidth=3, color='#A60628', label='HRC')\n",
    "ax.plot(sbc_dates, sbc_num_obs, linewidth=3, color='#467821', label='SBC')\n",
    "plt.legend()\n",
    "plt.tight_layout()\n",
    "plt.savefig('figures/num_obs.png')"
   ]
  },
  {
   "cell_type": "code",
   "execution_count": null,
   "metadata": {
    "collapsed": true
   },
   "outputs": [],
   "source": []
  }
 ],
 "metadata": {
  "anaconda-cloud": {},
  "kernelspec": {
   "display_name": "Python [conda env:astroconda3]",
   "language": "python",
   "name": "conda-env-astroconda3-py"
  },
  "language_info": {
   "codemirror_mode": {
    "name": "ipython",
    "version": 3
   },
   "file_extension": ".py",
   "mimetype": "text/x-python",
   "name": "python",
   "nbconvert_exporter": "python",
   "pygments_lexer": "ipython3",
   "version": "3.5.3"
  }
 },
 "nbformat": 4,
 "nbformat_minor": 1
}
